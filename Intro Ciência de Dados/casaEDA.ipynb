{
 "cells": [
  {
   "cell_type": "markdown",
   "metadata": {
    "id": "YnEhl66RPK4P"
   },
   "source": [
    "# Vamos aprender sobre EDA! 😄 :\n",
    "---\n",
    "\n"
   ]
  },
  {
   "cell_type": "markdown",
   "metadata": {
    "id": "zfSlHXFGP8U4"
   },
   "source": [
    "Agora que vocês já aprenderam os principais pontos sobre o assunto e compreenderam a importância de trabalhar com dados limpos e bem estruturados, é hora de colocar esse conhecimento em prática. Disponibilizamos 6 datasets reais, variando em tamanho e complexidade, para que vocês possam escolher aquele com o qual preferem trabalhar. O objetivo agora é aplicar suas novas habilidades, limpando os dados e extraindo insights a partir deles.\n",
    "**Lembrando que é necessário selecionar apenas um dataset para desenvolver a atividade.** 😉"
   ]
  },
  {
   "cell_type": "markdown",
   "metadata": {
    "id": "7aT0zD1rUnk6"
   },
   "source": [
    "###Os datasets são:\n",
    "\n",
    "\n",
    "*   **Mais de 30.000 filmes lançados nos últimos 60 anos**: este dataset inclui uma ampla gama de informações, como data de lançamento, diretor, indicações ao Oscar e orçamento.\n",
    "*   **Titanic**: traz dados detalhados sobre as vítimas do trágico acidente, incluindo gênero, idade e número do bilhete.\n",
    "*   **Aplicativo de namoro**: apresenta informações como quantidade de filhos, interesses e nível educacional dos usuários.\n",
    "*   **Vinhos**: fornece dados sobre o país de origem, avaliação dos consumidores e preço.\n",
    "*   **Acidentes de trânsito**: inclui variáveis como densidade do tráfego, quantidade de chuva e velocidade.\n",
    "*   **Casamento e divorcios na Índia**: abrange aspectos como duração do casamento, tipo de união e casta.\n",
    "\n",
    "\n",
    "\n",
    "\n",
    "\n",
    "\n"
   ]
  },
  {
   "cell_type": "markdown",
   "metadata": {
    "id": "rZ8JrMi0gXQO"
   },
   "source": [
    "## 1.1 - Leitura dos dados e realização de descrição estatística\n",
    "---\n",
    "\n"
   ]
  },
  {
   "cell_type": "markdown",
   "metadata": {
    "id": "dAh2wvlsgmWX"
   },
   "source": [
    "O dataframe será gerado automaticamente ao executar a célula com o método `pd.read_csv()` da biblioteca [pandas](https://pandas.pydata.org/pandas-docs/stable/).\n"
   ]
  },
  {
   "cell_type": "code",
   "execution_count": null,
   "metadata": {
    "id": "qRvGEqt21zTm"
   },
   "outputs": [],
   "source": [
    "import pandas as pd\n",
    "import matplotlib.pyplot as plt\n",
    "import seaborn as sns"
   ]
  },
  {
   "cell_type": "code",
   "execution_count": null,
   "metadata": {
    "colab": {
     "base_uri": "https://localhost:8080/",
     "height": 211
    },
    "executionInfo": {
     "elapsed": 11,
     "status": "error",
     "timestamp": 1738239937902,
     "user": {
      "displayName": "Trilha",
      "userId": "03752070481377182238"
     },
     "user_tz": 180
    },
    "id": "OTIhQYYPirs-",
    "outputId": "8df7bf6a-f741-4280-aa23-6d495d5ea9cc"
   },
   "outputs": [],
   "source": [
    "# Forma manual de abrir o arquivo\n",
    "import csv\n",
    "\n",
    "with open(\"marriage_divorce_india_with_id.csv\", mode=\"r\", encoding=\"utf-8\") as file:\n",
    "    reader = csv.reader(file)\n",
    "    for row in reader:\n",
    "        print(row)"
   ]
  },
  {
   "cell_type": "markdown",
   "metadata": {
    "id": "jOKUl1AHj7Q4"
   },
   "source": [
    "Comparando os métodos de como abrir um arquivo CSV, fica fácil entender por que o Pandas é tão útil. Fazer tudo \"na mão\" com open() exige abrir o arquivo, ler linha por linha, separar valores e tratar dados manualmente — dá trabalho e é fácil errar.\n",
    "\n",
    "Com o Pandas, basta um comando como pd.read_csv(\"arquivo.csv\"), e tudo fica organizado em uma tabela, com tipos de dados reconhecidos e várias ferramentas prontas para análise.😊"
   ]
  },
  {
   "cell_type": "code",
   "execution_count": null,
   "metadata": {
    "id": "-cakCUb9rZFK"
   },
   "outputs": [],
   "source": [
    "# Usando Pandas para abrir o arquivo\n",
    "# Adicione entre as '' o caminho do arquivo correspondente ao dataset selecionado.\n",
    "# sep = parâmetro sobre qual caractere separa os valores no csv\n",
    "# valores podem ser separados por qualquer caractere. Default: ',' \n",
    "dataset = pd.read_csv('marriage_divorce_india_with_id.csv', sep = ',')\n",
    "dataset"
   ]
  },
  {
   "cell_type": "markdown",
   "metadata": {
    "id": "ILn438eauT6j"
   },
   "source": [
    "### 💡 Antes de tudo, é importante realizar uma **análise estatística** para entender melhor a natureza dos dados:"
   ]
  },
  {
   "cell_type": "markdown",
   "metadata": {
    "id": "RwGCgjZzEOxj"
   },
   "source": [
    "Inspeção inicial dos dados:\n",
    "\n",
    "**head()**: Mostra as primeiras linhas do dataset, ideal para dar uma olhada rápida na organização das colunas e nos valores iniciais.\n",
    "\n",
    "**info()**: Faz um resumo completo, mostrando quantas linhas e colunas existem, os tipos de dados (int, float, object...) e se há valores faltando.\n",
    "\n",
    "**describe()**: Gera estatísticas básicas das colunas numéricas, como média, valor mínimo, máximo e desvio padrão, ajudando a entender melhor como os números estão distribuídos.\n",
    "\n",
    "Essas funções são indispensáveis para conhecer o dataset e planejar os próximos passos da análise!\n"
   ]
  },
  {
   "cell_type": "markdown",
   "metadata": {
    "id": "cSpMczY-vxBI"
   },
   "source": [
    "Existem outras funções muito úteis também, principalmente quando se deseja **visualizar problemas** no dataset, são elas:\n",
    "\n",
    "**value_counts()**\n",
    "\n",
    "**unique()**\n",
    "\n",
    "**isnull()**\n",
    "\n",
    "**isnull().sum()**\n",
    "\n",
    " Sobre a função de cada uma, deixaremos para vocês explorarem por conta própria e aprenderem mais a fundo sobre. 🚀"
   ]
  },
  {
   "cell_type": "code",
   "execution_count": null,
   "metadata": {
    "id": "nXyk-FAkuz8j"
   },
   "outputs": [],
   "source": [
    "dataset.head() #parâmtros: quantas linhas mostrar. Default: 5"
   ]
  },
  {
   "cell_type": "code",
   "execution_count": null,
   "metadata": {},
   "outputs": [],
   "source": [
    "dataset.tail() #parâmetros: quantas linhas finais mostra. Default: 5"
   ]
  },
  {
   "cell_type": "code",
   "execution_count": null,
   "metadata": {},
   "outputs": [],
   "source": [
    "#nome da coluna, quantidade de nao nulos, tipo de dado\n",
    "#strings retornam como object, já que são objetos do python\n",
    "dataset.info()"
   ]
  },
  {
   "cell_type": "code",
   "execution_count": null,
   "metadata": {},
   "outputs": [],
   "source": [
    "#descreve a estatística geral do dataframe por coluna (media, desvio, min e max)\n",
    "#calcula somente de colunas em que o tipo é numérico\n",
    "dataset.describe()"
   ]
  },
  {
   "cell_type": "markdown",
   "metadata": {},
   "source": [
    "**SERIES**: são listas **unidimensionais** que possuem uma indexação. Exemplo:\n",
    "\n",
    "[1, 2, 3, 4, 5] pode ser um Series em Pandas e possuir índices por meio de:\n",
    "\n",
    "pd.Series([1, 2, 3, 4, 5], index = ['a', 'b', 'c', 'd', 'e'])\n",
    "\n",
    "\n",
    "**value.counts()**: é um método que retorna um Series, informando a quantidade de vezes que um valor se repete em um dataset (ou em uma coluna). É um Series com esses values e index:  \n",
    "\n",
    "**values são os valores de cada linha do dataset**  \n",
    "**index são os valores que indexam cada linha do dataset**\n",
    "\n",
    "bins = parâmetro de value_counts() que serve para dividir valores numericos em **intervalos**. **Serve apenas para Series que só possuem números**"
   ]
  },
  {
   "cell_type": "code",
   "execution_count": null,
   "metadata": {},
   "outputs": [],
   "source": [
    "# PARÂMETROS: (normalize=False, bins, sort=True, dropna=True)\n",
    "\n",
    "# normalize = retorna como porcentagem\n",
    "# sort = retorna de forma ordenada (default True)\n",
    "# dropna = não inclui nulos no cálculo\n",
    "\n",
    "quant_urban_rural = dataset['Urban/Rural'].value_counts()\n",
    "\n",
    "\n",
    "dataset['Children'].value_counts(bins=3, sort=False) # retorna a quantidade de filhos por invervalo\n",
    "\n",
    "# SAÍDA:\n",
    "\n",
    "# 0 a 1 filho\n",
    "# 2 filhos\n",
    "# 3 a 4 filhos\n"
   ]
  },
  {
   "cell_type": "markdown",
   "metadata": {},
   "source": [
    "**Arrays Numpy**: são similares a listas de Python, mas possuem características diferentes\n",
    "\n",
    "Array Numpy estão contíguos na memória, tornando-os mais eficientes\n",
    "\n",
    "**.unique()**: retorna um tipo Array NumPy com todos os **valores únicos** de uma coluna "
   ]
  },
  {
   "cell_type": "code",
   "execution_count": null,
   "metadata": {},
   "outputs": [],
   "source": [
    "# PARÂMETROS: não possui\n",
    "\n",
    "all_castes_religions = dataset['Caste/Religion'].unique() #retorna uma lista com as castas que existe\n",
    "\n",
    "for a in all_castes_religions:\n",
    "    print(a, end=' ')"
   ]
  },
  {
   "cell_type": "code",
   "execution_count": null,
   "metadata": {},
   "outputs": [],
   "source": [
    "#informa se cada valor é nulo ou não\n",
    "dataset.isnull() #para o dataframe inteiro\n",
    "dataset['Children'].isnull() #para uma coluna"
   ]
  },
  {
   "cell_type": "code",
   "execution_count": null,
   "metadata": {},
   "outputs": [],
   "source": [
    "#retorna quantos nulos existem\n",
    "dataset.isnull().sum() #no dataset inteiro\n",
    "dataset['Children'].isnull().sum() #em uma coluna específica, retorna um numero "
   ]
  },
  {
   "cell_type": "markdown",
   "metadata": {
    "id": "xIAaZ2XWwvsj"
   },
   "source": [
    "### Quando se fala de análise estatística, é inevitável não falarmos de **Boxplot**\n"
   ]
  },
  {
   "cell_type": "markdown",
   "metadata": {
    "id": "o5DzLbczX7Ak"
   },
   "source": [
    "Ele te ajuda a realizar um resumo estatístico visual dos dados, mostrando mediana, valor máximo e mínimo, distribuição dos dados, e, principalmente, os famosos **outliers**.\n",
    "\n",
    "**Importante**: O boxplot complementa o uso do describe(). Enquanto o describe() fornece os valores exatos, o boxplot apresenta uma representação visual que facilita a interpretação. Ambos devem ser usados juntos para obter uma análise completa. 😎\n",
    "\n",
    "**Faz toda diferença** se aprofundar para entender e interpretar os elementos do boxplot (mediana, quartis, outliers, e amplitude interquartil). Por isso, recomendamos procurarem sobre isso na internet. Aqui estão algumas sugestões:\n",
    "\n",
    "[How to interpret a boxplot- Data analysis and visualization](https://en.fernandafperes.com.br/blog/boxplot-interpretation/)\n",
    "\n",
    "[Interpreting box plots- video Khan Academy](https://www.khanacademy.org/math/cc-sixth-grade-math/cc-6th-data-statistics/cc-6th-box-whisker-plots/v/interpreting-box-plots)\n",
    "\n",
    "\n",
    "![image.png](data:image/png;base64,iVBORw0KGgoAAAANSUhEUgAAAgkAAAGACAIAAACoV2YiAAAgAElEQVR4Ae2dTXKdvNaF7wySdnpnLi53PAbmkjRSlXIldYbgnj0Gt9JwhykwjVP0+epm3axvRyCOAEkgsVKu99UR0kY8EnuhH8R/Bv0TgaMSuPV96qLd+j7FWWA2kfHUTGRfBIZh+I8oiMAxCVyv18vl0jRNCt+NS771ffPnX8RTtF3XNM3l77+maa7Xa0T7x6wslao+AtKG+uq0hiu69f1f73ppuy7RJUXXBurZ9e8/6kS6q0gER2ZPTkDacPIGcNDLf27f0Wm4XC7X63WylBy3GYZh/GBuj05mR64/3Yb/dk34x8SI4U8EJiNxiGW2aW59b+OttfEZUSSbneknL5BFmslICwqIwCIC0oZFuJQ4BwE8zl8u/+0xoPfgeEYmgH7gaZ0P5re+RwzyzgzpsN/A9E3TPLfvuEjHLLVk0iA7Ok5RmYuDYzjp9XpFl6JpGpTcDkZhJIqsURJrmTEI0Bqk1KakEQVEYBEBacMiXEqcgwAkAc6Uvo8npjBg2IaDNvDp9uhz+47s9Ms0ggATw6XSw8IUnvdtrwUFszE0OHOID/XOSSEAUBqqoL0onohKwNMxBgGn/JPqxbwKiEAIAWlDCCWlyUoA/g6e0eoECmGPwu2if4Cnbx7lszNjxtdAbWBfgT4aAzvOZDhM0bI1iEO0Yw85YZ7UdnSgcL6Y8XkZgwDFb2zcObt+ikAgAWlDICgly0RgPDhj/SZ9n3XQ9Ms8+ty+t12HP99wP0d7LpfL2JpVGoRRMHphBwfLYOM5o2CnEFhInpSWbV52RDhExvTDMDjaQFEZhmHc3bFmFRaBQALShkBQSpaJgO0owKXCD6IbQTdqHSW84XP7TreLnoT976RPR3rnkPXydNB3fa7NBVIUORaDl9D8+cdLsGchZWTH6BCVgEcZwwAPMSNjFBCBFQSkDSugKUtCAnB29Kc2MDnOQ69ttYGdBgTsY7st+qQ2UGk4YAXxQPeFDt3a4YM8ZwiQFxMYnMbIow2TSuOUVj9F4C4BacNdREqQjwCftTFPy9laKIT1/tZHQ058R2dKP6kNsMZRGv7E3IPPGktuC0ZNsuM845Mib9M01jhd/HhMCRYwFIbi2ZPac1mDCovAIgLShkW4lDgtAXg6PKfDseK/8HeIRxrO+tJRIgZH7UIdOtlx0ZmXSoDEdpSJMVhTOzbCGFt4Rg7DwMWpvn7DuBhODCw7hbTawP6Kk9EWQ2ERWERA2rAIlxInJDDj1/hUjjEidCOu1yvd7uVygTYwJY7Cq/rcOs+I7M/tu533xqXaNPbxfAyCD/hYUYqisgB8jwEGrfxAP8YXxTTQJ6eQVht4RpTfSuO4nIoRgRAC0oYQSkqTgwCf0CddMJwsHpCtJGDcidoAP0uPjIEgPnE7l0E3DZeKxOyRMDGsOWM+PGoDt763ZYO7x/t0vCielDGw4GR0/Lu9Ik5gUI2co45lW0KFRSCQgLQhEJSS5SDQdp3Pr3GICeWAF0Z6O3vMozbBTNFplrPW48TwvD6BGaeHTRocXxESTGZkLt9RFhgBlI1nHJ9rbEcxIhBCQNoQQklpDkQAT83WCc6vINpYdI4p2TNutBkxO7Uhok2ZEgHt0a02UB4BzkvjBTc4R07GRrwejNhwBD+i5YimpA0RYcqUJaB+g6WhcAEEOMiO0XxMw6Z4qOe0NueED0hH2nDASqmjSNKGOurxdFcROJ2wkQvOkkJ4NhaM2X1TF0yggAisIyBtWMdNuURABESgZgLShpprV9cmAiIgAusISBvWcVMuERABEaiZgLSh5trVtYmACIjAOgLShnXclEsEREAEaiYgbai5dnVtIiACIrCOgLRhHTflEgEREIGaCUgbaq5dXZsIiIAIrCMgbVjHTblEQAREoGYC0oaaa1fXJgIiIALrCEgb1nFTLhEQARGomYC0oeba1bWJgAiIwDoC0oZ13JRLBERABGomIG2ouXZ1bSIgAiKwjoC0YR035RIBERCBmglIG2quXV2bCIiACKwjIG1Yx025REAERKBmAtKGmmtX1yYCIiAC6whIG9ZxUy4REAERqJmAtKHm2tW1iYAIiMA6AtKGddyUSwREQARqJiBtqLl2dW0iIAIisI6AtGEdN+USAREQgZoJSBtqrl1dmwiIgAisIyBtWMdNuURABESgZgLShpprV9cmAiIgAusISBvWcVMuERABEaiZgLSh5trVtYmACIjAOgLShnXclEsEREAEaiZQpza0Xff0+vLl54/vvz9ufV9zBeraREAERCABgQq1oe26Lz9/8O/774+I3NquS/QXsZAyJQIiIAIbCVSoDd9/f1AYvvz88fT6EqvrcOt7azluuO26jXWp7CIgAiIQi0CF2vDcvluvHVcbnl5fAv9QhsDET68v0oZYbVp2REAEthOoUBtufY/JBnjnuD731veBfyhD23WB6bfXpSyIgAiIQCwCFWrDMAy3vn9u37///ogrDIugUxsW5VJiERABETgCgTq14QhkpQ1HqAWVQQRWEMBCx6fXl+f2fUX2OrJIG1LVo7QhFVnZFYGUBJyFjnnGHgJHntclW0dL2rCO2/1c0ob7jJRCBI5HIN1Cx5lrdQTJrqbZHl63UFPaMFNfmw5JGzbhU2YR2ImAow1xX5DyXRNHsUJWNuZZAylt8FXW1nhpw1aCyi8CexBwHuHzjClhBU3gkBG0ITDxuk7DMAzShlStT9qQiqzsikBiAm3Xff/9se9CR98l8g3c1U7fZ9mJlzY4QKL9lDZEQylDIiACfwlIG/6SKPb/0oZiq04FF4HjEpA2HLduAksmbQgEpWQiIALhBKQN4awOmrJWbWi77u3h8e3h8ePrt4OiV7FEoF4C0obi67ZKbWi77tenz/zLIw/h6zGWpiy+kekCzkdA2lB8ndenDbe+//j6jcLw69Pnt4fH1Islbn1vzxg3nG15YvGtWRdwGALShsNUxdqC1KcNwzDsog0Ywgr5L5QjJCXSFK0Nbdc9t+/Y8ye1Qq+9CZQvPgFpQ3ymmS1WqQ3OmFIe3xo+UvT28Pjr0+fw9OW6VGcj+jNvCZf5vt79dNKG3atgawGq1IZhGNqu+/j67ePrtzzCsKgaqA2LcpWY2Hl398vPH+XqXIn8dyyztGFH+HFOXas2gM4BPdGt70+rDRE/bhin9ddi5db3339/PL2+fP/9cZA2L20ovnHVrQ0HrJ5TaYPGlPK0QLvv3kEEWNqQp+oTnkXakBDulOlTaQM/bvjcvuO7s1NIFLeJAL0wd8k+wjgqS5W6H6P9lDa1npnM0oYZOCkOnU0buHNnCpiyCbxUBQSkDWoYEQhIGyJAXGLihNqwBI/SriGgMaU11JRnnoC0YZ5P9KPShuhIZRBz0divO/UYTiBtjSkFgvr/ZEfbcr1ibcAL0thS6SA3DEYAzrNO6f/bvULpCRynkduRrtSlqmS+wVnufYRhwVq1gY/neAn54+u31G008N5nwQ5SnsBiK5kILCKgfsMiXIMdFvzy80eeT7zOF7FWbXBejf716fMRlFj9hvnWqKPVEJA2LKtKRxueXl+W5U+QWtqQAOqcSfUb5ujoWC0EpA3LalJjSst4bUhNF8yN7Q4yhsOCHaQ8Gxgrqwh4CdSsDdwKzbl6xDuR4T81Fx3OamNKzUVvBKjsIrCaQLXacOv7y99/1+sVgG59f71eEc3IFew2qsuKM85kqXVMiVV2tMdz9RtmWqMOVUOgTm249X3z51/bdRADTGO2XXe5XBh5NKezrlXVrQ3rmCTNJW1IilfGD0KgWm24XC7oGaADcb1e0WlomgZLTZjgIDWxuhjShtXo1mWUNqzjplxlEahWG9BvuPX9c/uOvgI6ExSMpmkgGGVV2Li00oYxk6Qx0oakeGX8IATq1Ab0DDi1gP0j2YHAUYrHQWpidTGkDavRrcsobVjHTbnKIlCnNtj5BvQbntv3GW3AxEOh/7XaUOglQK2L+C8KaffMEHMRqI8A2jk2hU19dVn3zOCcM4SaXQSMI+Gy7ZgSV7uWFcCFONpQ1iUUV9pJbSjuKlRgEZgnMKkN81lWH82qDZxjGGtDZXPR/CzXQfaTKKvXvK60GlNax025yiJQ7ZjS5XJpmubW9+hDYAqa61kd8SirzpzS2n6Dc0g/UxCQNqSgKptHI1CnNgzDAEm4/PnH9UiYh2DklsrA29GYxthiZ3teacN2hossSBsW4VLiQglUqw0YL2u7zvnILXoSTuTSyntu3/kNv90//C1tWFp9G9NLGzYCVPYiCNSsDYkqgEP8lId9x/qlDYkq2mdW2uAjo/iaCEgbQmsTr9F9//3hbMX65ecPaUMoxA3p2q77+Prt4+u3fWmP1yltuKajZ0Un+7l935350UnVWD5pQ1CtjvsK7DR8+fkD63+DDCVIdIZ+Q9t1eKXg16fPbw+P+7qq8/Qb7Njpc/ueoPHK5HEJSBuC6sbeJFYVdu80DMNwBm34+PoNX3Hg90GDqi1NopNow7h/HP0ZCI9cT68vKf6ilzZNazquVWlDUN04n3ujPOi7b0H4tiWiL6Y87PvtaJanbu+TQRvGp+CdtT2wb+dyW5M/RG5pQ1A1+BqxvhcdhG9zIvUbNiNcbMAZR020Ho/rBrF0kAsLbQBpoBY2mQ3Tjg0svmZlMASkDQbGbLDtOqfn+/33xxGeHM8wpjQMw8fXb28Pj28Pj/t2Gk41F802f5z3eI5wx836iXoOShsW1KWzYciCnCmTnkQb4JSP4BpOMqaENss2n7IJ37fNTswRGsD94laRQtpQfDWeRxsOUlWn0objMEc7lzZkqxFpQzbUqU4kbUhF1mNX2uABkzBa/YaEcD2mpQ0eMOVEn1Abbn2P9+B2eYqUNuS/OaQNuzDH/H/quyzrHt35Oe54xrNpw+7vwUkb8rd2acMuzKUN+bHHPOPZtGH39azShpjNN8yWtCGMU8xUGlOKSXMXW6fSBvrlHd+DYxlS97V3aU7HPKm0IX+9SBvyM498xlNpA150oDD8+vT54+u3yEDvmZM23CMU/7i0IT7TexalDfcIHf742bQBE9E7vgcnbch/T0gbdmGu+Yb82GOe8WzawJfg8FpWTJRhtqQNYZxippI2xKQZZkv9hjBOB051Qm3YtzakDfn5Sxt2Ya5+Q37sMc8obYhJM8CWtCEAUuQk0obIQAPMqd8QAOnYSaQNmetH2pAZOEYR0c7PszaMG8rmp40zShv2Ih/tvNKGaCjDDEkbwjjFTHW2fgN2wMWQzl77PUsbYrbgXWxJGzJjlzZkBn62fgOFENqw18clpQ3r2zk/P7LeRIycZ9CGg6BGdUkbYjTbZTboLs8wpkSnTG2Y+YYYN1FPEeBcdArjrMra9lPiV0KfXl/2/fpg9dpgN8nYF7W0YZlHj5f6bNpA9wLvPNPsfZ+kpK4cOYDrqkobnPpI9LnEwDurbm1ou86+Bf328MjHjUA+0ZOp3xAd6V2Dp9IGO4b25eePmU7DMAyOLzqyEozLVqE2PLfvznXu6LDq1gbbaYBI7IgaLkzacNeVR09wHm3g8iQO48zDhDY8vb58//1R0B/8Z4Xa4Gi1+g3zzXfL0Vvfq9+wBWAdeU+iDbzMLz9/BHqVQrXBPtFWNaY0DAO7DppvSO192HV4e3icGXhNXQzaV7+BKLIF6DR37zUmvWRnmmF+NAklkTYkrZGVxgM7fSutB2ezChycqbCEB0ENatKG/K3nnNoQ0nWQNuRvjcWc8QzacKjKkDbkr46TaANHIzAcr35D/pZW1RmlDZmrU9qQGbhdt1P3mNKt7zmsFNJp4Dql4uairdeqbb4h/+3hO6Ol7EtTRzyWcOzuHaQN+ZvTSfoNUMFFI6gaU8rfGos540m0oe26t4dHrFnK/6032xqkDZZGnvB5tGEpT2nDUmInSn8GbaA75nrWHXsPLMyOZThR+/5zqdIGX41LG3xk9o/ffaCjVm2wYJ23o399+rzjYlZpQ/67TtrgYy5t8JHZOR4VgxdV9vJWVWqDHUHiUBI7Db8+fd5xWEnakP+ukzb4mEsbfGT2jHe2SwxcVxC9xPVpA52vFQMnfHdjpVvff3z9lugPhUlk/OPrN41WObeJtMEBwp/SBqI4UICdBu6ttMstfU5twLDSDPDxMJSjLkf+uWOv6EA3mCmKtMHA+CcobfgHx0F+OP2GLz9/zLiqdGU+rTbw4X2SLbXh7eGxoL/5i5q80jNESht8tSxt8JHZOZ4vquz1baZhGOrTBrzRw2kGBnxP+pMzPdSGdCM/KSzjYtVvcG5saYMDhD+lDURxuIBdTrNL4arUBrwExM+9ETICjkhMelJpwy6tMdFJpQ0+sNIGHxnF19lvmKnX8Uy1+g0zuOo4JG3w1aO0wUdG8afTBmfEybeqR/2Gmu4NaYOvNqUNPjKKP6M2OCNOk41A2jCJpdBIaYOv4qQNPjKKP6k23K14acNdRAUlkDb4Kkva4CNTTDymVVP8F3PR339/pDDedt0uC3O316u0YTvD41iQNvjqQtrgI1NG/PhNCL4ud/xAyAdGDlgN0oYDVsrqIkkbfOikDT4yZcRTG55eXwr6C//41AGrQdpwwEpZXSRpgw+dtMFHpox4asP33x8F/XG0qgzK/5ZS2vAvj7J/SRt89Sdt8JG5E48vKDmJJiOdNHF/Shvi8gyxJm0IoVRKGmmDr6akDT4y3vhb31+v18uff03TYELVRl6vV2/m2AekDbGJ3rcnbbjPqJwU0gZfXUkbfGS88RAGLN25XC5QgrbrLpdL23U4mm0FjrTBW0/JDkgbkqHdwbC0wQdd2uAjMx1/63vqgf08d/PnH2Jsgmkr8WKlDfFYhlqSNoSSKiGdtMFXS9IGH5npePYP7NTCre+bpkEHguF1XYe26zBP+/T6MrmZj1MsaYMDJMNPaUMGyNlOIW3woZY2+MhMxz+37+gWcL7B6StAGzgPMW3FE8tmiiWeIZ97kzZ4WCaMljYkhJvdNG+6dQ9z2cub74TShmWsoQ1N09j5BjvQ5GgDuheB/0Vl2HfW8PLwTHZmKWgB6/ffH1zDOnNphz1UujYcFuxeBUNr3Ovshz3vc/uO79WX5VvgP+E5/7PMu29LzTElmME0A8eR0IfA+JLzGGJ/zoStMIR81af0fsMMClbU0dKUrg0Ei+aKn5OQ647khVMbSIYXzsAJWanfwPYQFEAXgTMBVhuapnHGl4Is/pvIfu4tZEuJ0rXh36sv41dN2lAG8ZSl1JiSj660wUdmOt4OGaEPgSloLmzFoBPFY9rKbGzbdc/te6AFacMsyyQHpQ1JsO5kVNrgAy9t8JHxxkMeMBd9vV7R63QivZljH5A2xCZ635604T6jclJIG3x1JW3wkZmLx7eFnV2mJyPnrMQ4Jm2IQXGZDWnDMl7HTi1t8NWPtMFHpox4aUP+epI25Gee7ozSBh9baYOPTBnx0ob89SRtWMf81vfP7bvdSf65fV9nKmIuaYMPprTBR6aMeGlD/nqSNqxgDmFwlmh/+fljd3mQNvhqU9rgI1NGvLQhfz1JG1YwZ0N15CHk5f8VpwvPIm3wsZI2+MiUEc9brqx3F/ledBmU/y2ltOFfHkG/6IIdbVC/IQhfgkTYuu3p9eX77w/7ih9PJW0giiID0ob81SZtWMccezBYbQjcUHLd6QJzUbQm/WOgkeKSwe+zLiZfs5U2FFet/xRY2vAPjiw/pA2rMeO9zuf2HX9HcMfn1Aa7/wI2TRrXhbRhdTuPnPHW99iEbtHDlLRhezW0Xff28Pj28Pjx9dv4DhnblzaMmZQbI22QNhy99WIIHr288Ak6acPGer31/dvD469Pn/H39vB4Vx6kDRuZHyr7ObWBVw2HM7lDj/oNh2iodPEcAZysrXFZmVFz0WM4ITF09JQHaUMIt2rS0EverfdqLhkXgoGK778/fK5G2rBzjaNp2k7DjJKPyyptGDOZj/n4+o0jSAhTFRC46yMoJx9fvxX0h+7Rx9dv83zOdvS02nC3oqUNdxElTMB2ye4CAhpTSgSdbt3RA/4McZ00UpAwUAVDLjAR/GOa5T1495ngmOVPVyppQzq29y2DvhUGdPHCm6n6Dfcp/03hTC1QDxB4e3h0Nk/8m8/9v7TBJVLyb2mDr/akDT4yOeLH2hCuCiiftGFRPX18/eZIAn/aWehb3+NB++Prt/ForLRhEfODJ5Y2+CqoTm1Y6mF9dFLHs12i6zD5Bsp8GaQN83yco3TrlAQboAxYCbGaAWs0ojElB2+JP3kPluI0skGuTRtufX+9XpumeW7f+UGFbDRXnAh7kC0dSuKJpA1EERhouw4+Ha81WG3AWPyt723kr0+fnTF6aUMg6iKSSRt81VSVNvDja03T4Its/FSn7/oPFc8dTvgAe7d40oa7iMYJ8IQ4nn6gNtg3HqQNY4A1xUgbfLVZlTbwW83XP/+GYYBa4JPOPgQHiUdNcF46UB6kDVuqzzd25IvHudRv2ML8aHmlDb4aqUcbMJrE7gL1ADpx/MHEkB1OxrUobRgzWRTDISbbQjAaiaEnGw/L0oZFhA+eWNrgq6DKtYH9hvEd7iOyV/xYG0JKIm0IoTSfxtc2fPHShnmeZR2VNvjqqx5tGIah7brL5fLcvqOv0HZdQfMNGlPytdGjxUsbjlYjW8ojbfDRq0obhmGAGFzMPw4u+RAcJ77tOmyLFDjZgAkVrn8taEslfdsn//pX7ZkxeadLGyax4FEbW7QW5FiwlfWXnz/gQv/jXBu6C+w6OEcr+6kxpfwVyn4D9mUq5b9YmOusx81P72hnlDb4aqSqfkPbdfx7bt8ZRsCHoOh4aUP+6qM2OK9BFPFT2uA0GGmDA4Q/C9UGjKO4/YbxgJIZW7oUNLjE6rkbkDbcRRQ9AbWhlB4Dyql+w2RLkDZMYuGYElfVlxVwtQFz0dfrlT0GzkUz4ANRaLy0IX/FURvyzxlsOaPmGyabirRhEktt2oDdMuzSw/FLD/aoD0pB8dKG/JUlbcjPPN0ZpQ0+ts7KScxIs/fw9PrCiV9EhiSwH6qBhRmDdxNMnhEG/+k3WBmwV8t33xiwR0sPSxvy16C0IT/zdGeUNvjYptAG+xbXpLpY8Zh0/XcTTGiDfb/h1vf44y4abddhkyUfiMPG49N9T68v2D3QKae0wQES+BMb7U1uwX3XgrThLqKCEkgbfJVV6Fw0xOOffgMW+3M6umkaTERzF43L5YIMPhYHjGfDZa/NKaS0wQES8tPZLmlpq6A2YHb37eHRMciPrHH6N0MCuz/gTJG0TslpIbzFKhttdi5zxc+qtAHy4LzfgCovdBmr06378vOH04KlDUsbvW/71XA7k9pgXbOjDTOeOqJ42ALMnFHa4FS0tMEBwp+1aQMvjGNKRU8zSBtYobECEbVhy6qh/Hm1TmmyCUkbJrFwnRJmBTD0X8R/p8eUeJHcSQnDSs/tOw+VFWDD5ZiS+g3ba9CO8Pz69Hn1mFJ+/77ljNKGyZbDW8y5syYTnyqyqn4DP/rGV94w2VB0rXMu+vvvj/GFcEwJ4uFM/Ts/v/z8AeXnXL8vAaxxNxUn/cxig7FBJ8b+XPEN1Cg35/znoO+egmNKWzx1/rzShsmalTZMYqmn32A7CliPVPRQ0ri2xqqANJPaQM8OMaBnp6+fSbBu3Zg9hbPqGWIweca9tIHofFTH/G2MtMHSWBHGd3Cxqw2yt1333L5PrsRbYX9RFmmDD1cN/QauTcIb0ZhpqEwbfPVHbRgPBcIpM975CQ/Oo3d/xk0ALdlXG3xI78ZLG+4imklAX4zHBUgCHx2eXl/WCfbMGecPsTyZzztfqiMcrUcbmqaxzx3SBuv3jxaWNpx2TGm8vMJ2Orm7suMc+Sn1p9eX6H9QpuhmaXDphJZz7Xv9rEEb0EW1LzRwGeteWLOdd6bfcDQ9sOWRNkgbbF+B4S8/f0yuHBkris1y8LC0wd77qcPwLWD+v+834Bu/HF+6XC5N0xRaK+HSIm0IZxUrpcaUtpDkGA4cOl74t859cmyHz7AYgyrlv9ZPbYG2S14yT+3N49q3zP/5tg9fa2A3om6FkDbkv22kDRuZY+aZ28Cg34+fvoc5+qlSVAHltH5qI7T82ck8ru9Obc0y/0cbSJDdCCxbmnwYYeJyA9KG/HUnbdjOHM9w1s44xh6ln5I2WCyBYayD//77wye9k3bIPLU3j2v/vjbwaufbHJMVGpA25K84acMuzLECW9qwFL4ziBcuD/Vrw1KUZaWXNuSvL2nDLsylDeuw2zdVwTBwEEXasA545Fxt133//WHX4AaeQNoQCArJ2q7DAqHA22PSuLRhEktgJCYbwp9eWXHShkDCTjJpgwOkpJ+28pa++yNtCK9pu43S28PjanmQNoQzd1I+t+9ckjS5VtVJz598htWYEpkEBoCO2MNfOCXzuPMBqa0tmG8IJLhXMmc00Pfuj6940gYfGSd+vP3q0kdXGpQ2EMWigOOkFjV1+ilpwyLmSMw3Byf3ZPMZJPPU3jyu/Rq0ASupbKcB2u74LAw3OZGsTmkDUcwHbn2PjyXwvz6k2GUMn4Sb7FtIG+ZRj49yuyQ+vU429XFGxtBPSRvIZFFgxZIcMo/ru1NbK14bxt0F3C3OmJJVjsnOoLQh8A5x+g0zY0p3h56kDYHMkcyOI1ltcJr6vE36KWnDPKiIR8k8tTePa794bQB3e6tgqs0+zNLvM5k9ikYwTsPExw9Mql3Exu2Ygjy8PTy+PTyOSZInOxYIjFNKGxywMz/Hz0DYZWjpsgv6KWnDDO24h8g8ru9Obe0o2uCMOYR33MYPU+O8Y78/9lPjNMeXBJYwszbgk7FjzvaOGg89jT+iKW2wxObD4/YJVXBunHkj9lsC0oa7rGIlkDasJMnvCKGV4ye+KXS9Xu8adfoNT68v4yzOM9dkH5z3nt2Cm+EjB/BtifFV7xvjDD39+vR57MWkDeF15LTh8SeJp8wAABqwSURBVAfPA03RT0kbAoltT0bmqZ/049rfv9/Qdh2284PveG7fL5cLPzE0dijjqgpZPIBbC93wcacBD8J4DI/LN7U11F/+fsO4FsYx/Cqcb+hJ2jCGNhPD7ZKeXl8m2/BMXh6in5I2kEnqAJmn9gZx7e+sDbe+x15+TdNABpo//+CsL5dLSNchZIjjbhr2G+LyTW3tyNpwl7m0YalXwjheyAOTzzL9lLTBhyh6PJmn9gZx7e+sDc/tO8QA2gCpgB4wvOVOCK9maUM4q1gppQ2xSIbboZ+SNoRD25iSzOP67tTW9tQGeP+26yAPeCZiXwFH2Z+AQiT9b9FjSlTQpIjQFYjyX8yLYglT/u/zbDnj28Pjr0+fP75+K4453gSqY8+MUtq5ZZ7am8e1D3+I0cvpPbo3aqYvO+acr9crNQAeZ0Yb2KFOEYC2Y143LuKk1jimlIJJapul9xtS80lhn8+wJfYbuDQrBZl0NrGWkutZkjqEiMbZb7j1fVZtwBR023XUBtQNvhIBncj5xQiNKflUPF186dqQjkw6y0Vrw+oZ+HQ8QyyTeUTHncEUtWEYhqzaYL85evnzD8NHGF9y+hAhFbAxjbRhI8AV2aUNK6BtzEI/VWK/QdqQQRJ4ij3HlDASx/kGVDw0A/vGYDHr0puBZjkcHGJB2hBCyZdmHXNpg49nunhpQzq2PstkTrdbRGC3foPlyLloDiWhJxG4gNWasq8ILVoGLm2wGBeF7WtuvlcZJg1KGyaxJI2kn1K/ISlna5zMi5AEFvIQ2oCZBtJc9xCK7HZPvUUvDEsbyH9pwO6p5yzgmTclbZjnk+Io/ZS0IQXeSZtkTrdbROAQ2jAJdF2kow2T22NMWpY2TGK5G4mXn+22ejM7szrWpA0OkAw/6aekDRlo4xRkXoQksJC1aYOz9V74ZhLShtW3yrjfEGhK2hAIKmIy+ClMM/JFB+cnnAIiISHpEjy9vjy373fPiAJoLpqOO0OgNm249T27Dou+zSRtWO2AbNfBvhF216C04S6i6AkcbYDrp2sO9NRM/+Xnj3nxgEH7xOacwvlJgzyFTSBtyCAJPEVt2oB7ia+xhN9a0oZwVuOUBI61YW3X4W+c0sZIGyyNKOG7c3Uc39CYUhTgIUbInG63iECd2hBSYU4aaYMDZPVPO8Q0/maDNSttsDS2h51FepNruOmnpA3bgQdaIPMiJIGFlDb8r36lDYENfT7Z+JM+kx4KRqQN8zCXHrVDNxicGVugn5I2jOEkiiFzut0iAtKG/7UHaUOUG4PuniuXZsaImXjLznf583KvvSjEYhmxnQZOI4+N009JG8ZwEsWQeRGSwEJKG/7XHqQNUW4M+x4c5EH9hihgQ4yo3xBCKX8aaUN+5jHPKG2IRbPtOjxZ331HWv2GWMxhBx+GY6dhUpXpp9RviAt/xhqZ85G8iED9/Qau3JipPOzVgZuqiGpjIVF/4a9xzENYepRsHTfEZUvzBqUN83xWHCV5p0Zoin5K2kAmMwFfC5/JMj5E5rxtiwhUrg12EHb+HWn1G8Ztej7GDh+FvwttbUobLI08YfopacNd4OHeY94UmRchCSxkzdpg34Njn8BXi9IGHxlfvF2rim2UfCl98dIGH5l08fRT0oa7kPkW7V3vMW+KzOl2iwjUow142cp2pa3s361dacN8+x4fdbTh7uzC2IK0YcwkPIbDHeFZ8B1WbpVRkDxYP7XoerckdrRhfuBh5kTShhk4aQ/Z/oGzL7dTu8/tu68o0gYfGV+8ow1YlbRocEna4GN7N94+9+BLmXezIAH9VEHCwA2XZtZDB17+omSO91g9q0fmRXQXWEirx1m/+7aokuYTAz16BngmYnp7C81vryRtILTAgN1GiW8zLBpckjYEoh4nC1muOs6lfsMkE1+kfeic9x4+C4iXNszzSXjUkXd0HTi4xK43YyaLIm2YxDIfCbZYsUp5wHZ72k9pHt3qo2COZzo+D6HrEMhcY0rh8O+u+woxJW0IoZQkjdNv4A2D8UEqx/xwobRhdd04g0sfX79RLea3ZWW/4e3hEa83IxDrvyhJiv8u6h6tBjvOaPvBbOfw9fw5387ppzSmNMabKIbMOVxTRKCGMSXb9eMdgoDzeDUzYihtWH1jOItZKQzoScxst0dtYJ+joMDMda0mOZ/RvtrmtHPn58y8Gh+knl5fCvrDBWaeb5ivjvCj0oZwVvFTouvXdp0jBs49M/NIJW3YUiu26x2uDZixeHt4TPEHmUlhGTbz+ylfp8Fp5L5d9lC/1IZxruPH5Ge+5aZgXmkDUewZ4AjSZEMP6TdMZjx45Mx15a+M8RDTTBmsqMQNQ6Li2rTWZi4q3SFnCtrXLNVvSFcFKyxLG1ZAi59l5tlqptOAPTPm+xy++/AI8TO+ID7iexbtENP8fMM9S+uPswzzCxDWn2CnnLZ5s7niy2hsh/PtnH5K8w3Z6pDMi5hmYCHRwNBXK3UNq1PHk9MPbdfddRP2qTBumJTjmqU1h8DuPwPXhqUrZ63agIcYvubJgBM/A5Z+StowQynuITKn2y0iQK81DEMl2sBF3PZJKm5lL7VmKS/Nq/QrCFSsDSto2Cz0U9IGiyVpmMyLkAQW0nqterRhGAY78bD7FJalnLQVyjgISBt8LYF+StrgQxQ9nszpdosIWK9VlTawl42hJAy/RK/1QIOWcmCWQpPty5nQpA1E4QTop6QNDpl0P8m8CElgIa3Xqk0bWNlc3eHstsQEqQOWcupz7WifK5RW7LsXt9jSBh9P+ilpgw9R9Hgyp9stImC9Vp3agIqxcw93J6WjNw5LObrxgxh0XmRbtOle9EuQNviQ0k9JG3yIoseTeRGSwEJar1WnNrDTQHmQNkRv/cMwsNPAd5vzc+Z1SRuIwgnQT0kbHDLpfpI53W4Rgfq1ARVDYZhf/Z2ofVjKiU6xu1n1G3avgpAC0E9JG0JwRUlD5kVIAgtpvVad/QbndYdd1ixZylFa2wGNOFt278KZWNRvIAonQD8lbXDIpPtJ5nS7RQSs16pTG7hgKeT1t0Ttw1JOdIojmN39lTdCkDYQhROgn5I2OGTS/STzIiSBhbReq1ptSFfrgZYt5cAsSraFgLTBR49+StrgQxQ9nszpdosIWK8lbYjeKv5n0FJOdQ7ZNQSkDQbGP0H6KWnDP1xS/iDzIiSBhbReS9qQqoFYyqnOcUi7e70KJ23wNQf6KWmDD1H0eDKn2y0iYL1WPdrADTO2fOU1YhOxlCOaPbIpOzWdfzfW82jDc/uO1oXPgt5tEvRT0oa7rGIlIPMiJIGFtF6rEm1wXmg4wrcNLOVYDe7gdpzXHTJ/Je0k2gCnw/XZIVu1009JG7LdQWROt1tEwHqtSrSBnQbcM7u80OA0O0vZOVTlT7pmvgeXuevAAuz4/l2GmnUeg0KaOv2UtCFDBeEUZF6EJLCQ1mvVqQ3qN2S7B+yJ1G+wNBKFpQ2JwMY1K22Iy3O9NefbWEd4crQKvP7CisrJJ/dfnz7n31uJZz9C7aerN6eph7xvSD+lfkO6enEskzkfyYsIWK9VSb/hCC+7OY3DUnYOVfxzx1fhTqINK5o6/ZS0IdutR+ZFSAILab1WPdqQrdYDT2QpB2ZRsi0EzqMNSynRT0kblqJbnZ7M6XaLCFivJW1YXft3MlrKd5LqcAwC0gYfRfopaYMPUfR4Mi9CElhI67WkDdFbxf8MWsqpznEAu8cZ3Jc2+JoD/ZS0wYcoejyZ0+0WEbBeq2xtaLsOFzP5vhuPhqzzi944LOXoxo9gsO26t4dHTDuHzIimLvM5tcE2cl8t0E9JG1I3Qton8yIkgYW0XqtgbQB9vgT09PrCisF8HQ99+fkjvzxYyrZgdYTpiPE2Q/5VSWOMLNJxujLjQsaNsWuWZho57xSrDU+vL/y5JRzFyGQBir6DpA1xm/oya85C7y8/f1inMH902ZlWpS66Zc9cMSA7X/X59emz76F1xlTcQyfUBjp9PgbZW4B4x8mY/viB3dsVMS4KSBsW4YqceNzi7ciSc1T9hu30uV3S28Oj85qbtGE73hALt77HZkpPry/4Nonj3Ce1weZ6en2J+4cCxLVJa8/tu7SBAz4ZAvaJtuAxJadDjTbKN6KdoyHbzoTcnOFpLOXwXIdNSWGwW2LY8KRXynk5Z+g32N4w5MHGzDRybI6b4r9o5yks77Whb5RGq37DGoxsRk7mFU3BEQBnyBXvYe316FGfNlAJEPj4+q3tOvx3d2HADBPmxo9QGKdtR/l563unl4B9WNuu26uRD8NAbYhyjdUYkTYsrsrr9Xr5++96vSL/re8Zz8hA0wfcZQ8lr08b4HmpEJm3Wb3bHqrvN4yfhHYfb2GRatXju63Ol0Da4CMzHd923eVyabuu7TqIARo34xG5qJ2xdeKRave7hVdemTYMw2DnGI6wMImoEaheG4ZhsLNo+afQHODoq6nfMMbCmnp6fckwSRDxFNZrZZ1vwCAP7+TL5XK9XtFpaJoGTQ2Rk7h9kZhq27FbPVkwS3kyQYmRGETKvPl2IKgzaAOcDpr6okeoQIZLk/HJ7AiFWVr4pOnVb1iP99b31IamaTCUdOt7hCtoalVqQ0h9Y9b67eHx7eExZzfuJNoQUgXZ0kgbfKjZw+OaqyICdvQla7/BcuSYEkUC/Ybmzz9pg2VVUNhZzpRz6EnakL+dSBt8zKkNzvKBIn7ikW4fbcAEA/sKHEdCv6FpGmgDVzSVFbDjsFiEXlb5V5cWF87Jai5nWm0wPCNObdcphedVynUEbDsv+oZdd/l3c2FiNcV/+XSfwjhd1g7aQGFge/KNKbH3UFyAz1McVCnuEnDn47EovPC3vne0IRuBcb8hvNjrLjZbLud9t6WVkq6cbOfVoI7IFkzuSsiiBKhKaINlvsjIfGKc4tb3ubWBwsC+GPsKKBP7EExQaOC08w17LWcaa0OhLccptn277cvPH9RaJ9kuP8fasEsxTnVSvuZCbUh0+Vm1gVMLVriGYeDcw3P7jkWuia42p9nTagNWo318/ZZ5OVOV2kDny3HqmZefczZvnIvFS+2n8l/aYc9YpzZAA/6++vbf/3PKoWkaxC999+2wVVirNnAZUmbXf7eiz6MNjiPmdkl4TfouqIgJpA0RYQaaqlMb0F2w8yds5Tt+ZziwSpYmq1Ib6H8xqZBzGdJd/iwbG9XdLEUkGK94sV0Hemd0LOyhDFfHs1fGPAO61aeoUxtW4ygxY5XaMN6a+zhOoVZtQLeAY0rOpmFj5chZI9KG/K5J2pCfeeQzShsiA71nrlZtGIbBmY62u2VIG+61i9qOSxuKr9EqtYH+1767cJCqYtlyPjjnuXY+nqP3YJcqOYc0ppSnRnY8i7RhR/hxTl2lNmCdMdYgaS46TkMJs4KNuCc3DbP7iWXWRSpT5vOGMaszlbSh+HqtVRtQMT5f0HZd/p2UWCT7XnTxDaiEC6hYG9quwy6qtpfm1Mmt77///kAy3x3hZNn+U9qwneHOFurWhkm49q23iF8JtW/DzIepDfPJeHTyKhQZTqBWbXBmcSblgdeOgT47CRQOcEVKacMKaMfKcjZt4HA/98yI8vGf8SYctL89MHnPH6sZHbs09I/Znprz8MDNy7Vh/NKwPbujH19+/sgDQdpga6HIsLQhljY435ubkQQMZ80ksIfeHh6jlLDI1hmp0FVqA0aKKAxffv4I1IY8jxrShkiNdz8zZ9MGfHbGOt9YtwqHgFIE9msgNZy5Sm3gV9soD5MtmdeuMaUamnLOazihNtidlCZvp5z8da4MBOgf8wynZLginqLtOnxrc6Ylo4eBZNkIqN/AOio1cEJtQFXh6b7UalO5lxCoWBu4VfVdHtlUASWRNtytkaMnOK02HL1iVL54BOrWhnicYlqSNsSkuYstacMu2HXSnASkDTlp41zShvzMI59R2hAZqMwdj4C0IX+dSBvyM498RmlDZKAydzwC0ob8dSJtyM888hmlDZGBytzxCEgb8teJtCE/88hnlDZEBipzxyNwWm0IWeGaqLqkDYnA5jMrbcjHWmfaicA5tQHb8M2/GZeuQqQN6dhmsixtyARap9mPwDm14fvvDwqDb0eNpXUCvXl6fQn545vYIYlXbwL4n6XXoPSBBKQNgaCUrFwCJ9SG8W5Lq52vrffxzn1WfjaGZ17ttmVwwtIGB0i0n9KGaChl6KgETqgNgbstraixFNuFbdmkQNqwohKDskgbgjApUckEzqkN2DcM4znP7XvmPTOytRdpQyrU0oZUZGXXELAfBDXRmYLn1AbA3fJInql6tp1G2rCNnz+3tMHPRkfiEKBrxnj0umHlLUVhAWp9dt4Cp/S80oZUNShtSEVWdv8SeG7f7Szl0+vL3yOb/g+PH7gGBgUITBxl2nbTtSlzMAFpQzCqhQmlDQuBKfliAmNtiPL8fsA1M4vRKMNmAtKGzQg9BqQNHjCKjkbAceLP7Xss00dbMxPrumQnnIC0IZzVspTShmW8lHoVAb4zVfGCmVVglGkrAWnDVoK+/NIGHxnFxyVQ/YKZuLhkLZCAtCEQ1OJk0obFyJRBBETgMASkDamqQtqQiqzsioAIpCcgbUjFWNqQiqzsioAIpCcgbUjFWNqQiqzsioAIpCcgbUjFWNqQiqzsioAIpCdQrTbgw0z5dxFglUkbiEIBERCB4gjUqQ324xvff3/krxXuM7OjOOW/ap1RBESgGgIVaoPzsuiXnz+ibCQwDAM+6xG4dczSfWakItXcVLoQEaiAwCm0IZbb5Zda7QZnscIRNzyooF3qEkRABPYlUKE2cDyHT+6x+g345FPbdSn+IhZy3yals4uACFRAoEJtgAfHVPDT60usTkMFla1LEAEREIFAAnVqA+YGtM9MYCNQMhEQARFwCFSrDc516qcIiIAIiEA4AWlDOCulFAEREIGzEJA2nKWmdZ0iIAIiEE5A2hDOSilFQARE4CwEpA1nqWldpwiIgAiEE5A2hLNSShEQARE4CwFpw1lqWtcpAiIgAuEEpA3hrJRSBERABM5CQNpwlprWdYqACIhAOAFpQzgrpRQBERCBsxCQNpylpnWdIiACIhBOQNoQzkopRUAEROAsBKQNZ6lpXacIiIAIhBOQNoSzWpxSn2RYjGxtBuy5y/+uNaN8iwmI+WJkGzKQNgIbLN3PKm24z2hdiuv1erlc9PWIdfQW5br1/eXff9frVcK8iOGKxLe+RyMHezFfwTA8i0MbzJO6F2lDeO0sSHnr+6ZpLpdL0zRyUgvArUoKbbher/we3+VyuV6vq4wpUxABtnCHuVp7EL7licbAUz99ShuW11JAjrbr4J4ul4vulgBgm5JQG2il+fNP5AkkegAt3H7kHK5KzKOjhkFog33WHMfEPbW0IS7P/1pD7w+12DSNHmDjI/7XIrUBg7Bjt/Vvcv2KQOB6vVo/BYsShghkPSYmlSCpHksbPFWxIRq1iKHAyVtog21lnSAwnm8Yu62JbIpaS2DST601pnxBBCaZP7fv6UYmpA1BFbMoEZ5b26679b2eYRehW5eY/QaOfaO7psfYdTzv5pr0U3dzKcEWApPMpQ1bkO6QF7PQWEiA/+oxNmk1UBt4lqR9bZ7lzIFJwngeOjOWdNc+qQ2TtRCrDOo3xCL5PzvwU8/tO59hk9Zf5NKXaU7akL/e8MRq11Cyu5y/MGc441gbxjFxOUgb4vIcxkow9lyRT3l6cyTMN4O0ejh1o4Bjwhs8wK61YUmZWyUAcLgaK89xCyBtiMkT9ee8BGQrNebJZOsvAWiDBvH+8sj0f8qDBk4zEHdog3k6YRiGQdoQuVoh6Y7RyUgnjX5uIYBpf47jaRZ6C8zwvBa7mIdzW5fS0kZTX2cnMJe0IRCUkomACIjAiQhIG05U2bpUERABEQgkIG0IBKVkIiACInAiAtKGE1W2LlUEREAEAglIGwJBKZkIiIAInIiAtOFEla1LFQEREIFAAtKGQFBKJgIiIAInIiBtOFFl61JFQAREIJCAtCEQlJKJgAiIwIkISBtOVNm6VBEQAREIJCBtCASlZCIgAiJwIgLShhNVti5VBERABAIJSBsCQSmZCIiACJyIgLThRJWtSxUBERCBQALShkBQSiYCIiACJyIgbThRZetSRUAERCCQgLQhEJSSiYAIiMCJCEgbTlTZulQREAERCCQgbQgEpWQiIAIicCIC0oYTVbYuVQREQAQCCUgbAkEpmQiIgAiciIC04USVrUsVAREQgUAC0oZAUEomAiIgAiciIG04UWXrUkVABEQgkIC0IRCUkomACIjAiQhIG05U2bpUERABEQgkIG0IBKVkIiACInAiAtKGE1W2LlUEREAEAglIGwJBKZkIiIAInIiAtOFEla1LzUPg1vf2L89JdRYRiEtA2hCXp6ydncCt7y///rv1/dmh6PoLJCBtKLDSVOSjErher5fL5Xq9tl2Hv6ZpLpfLc/t+1CKrXCIwTUDaMM1FsSKwlAB6DNfr1XYUbn3f/PmHUaZhGBiAfY4+2dNZC8jCxLTgpLHZFRaB7QSkDdsZyoII/JcAOg1jl03vD5HAgFPbdcMwtF2Hn5fLpWka5EUkEjANeiHolDAL06gCRCA6AWlDdKQyeEYCtn+A66ckwONzHgJe/tb30AAOQFEentv3y+VCv8+fFJLn9r3tOoxWMdkZoeuaUxKQNqSkK9unIeBow63v0Y2wz/jw/kDipLf9A4oBUvIntYQW0I0Y91ROQ10XmpCAtCEhXJk+D4Gxr0fPoO06iAQ9O7sRzZ9/9OycrqAYgB5/wgKntcdnPA9tXWkGAtKGDJB1ilMQ8M03SBtOUf3VXaS0oboq1QXtRIA9A+f8gdrAbgECnEhgdsc++xnseTjn1U8R2EJA2rCFnvKKwD8E4MexjBVz0ZgxxhokZ3qAvh4pORdtnb4zg43ZC6SnZvxTAv0QgUgEpA2RQMqMCPwhAI/PKWisOKL3d95+sIm5hnUYBswxwAg1AIkhNjjEvoXYi0B0AtKG6Ehl8OwEOAvddp0d8IFCOHT4BrVNiWVLXO2KQ9AGLGDFIceUfopARALShogwZUoEEhKgNiQ8h0yLwF8C0oa/JPR/ETg2AWnDseunttL9H5/7uuoXRTzUAAAAAElFTkSuQmCC)"
   ]
  },
  {
   "cell_type": "markdown",
   "metadata": {
    "id": "voXoFiXeWsXU"
   },
   "source": [
    "Para plotar o gráfico, use bibliotecas como: [matlotlib](https://matplotlib.org/stable/), [seaborn](https://seaborn.pydata.org/), [plotly](https://plotly.com/)"
   ]
  },
  {
   "cell_type": "markdown",
   "metadata": {},
   "source": [
    "**Como plotar boxplot com o seasborn**\n",
    "\n",
    "sns.boxplot(data=**NOME DO DATASET**, x=**NOME DA COLUNA**)\n",
    "\n",
    "Na parte do x, podemos escrever y, para mudar a orientação do boxplot"
   ]
  },
  {
   "cell_type": "code",
   "execution_count": null,
   "metadata": {},
   "outputs": [],
   "source": [
    "sns.boxplot(y=dataset['Age at Marriage'])\n",
    "plt.show()"
   ]
  },
  {
   "cell_type": "code",
   "execution_count": null,
   "metadata": {},
   "outputs": [],
   "source": [
    "sns.boxplot(x=dataset['Caste/Religion'], y=dataset['Age at Marriage'])\n",
    "plt.show()"
   ]
  },
  {
   "cell_type": "markdown",
   "metadata": {
    "id": "-ifLe_4UnqPO"
   },
   "source": [
    "## 1.2 - Limpeza de dados\n",
    "\n",
    "---\n",
    "\n"
   ]
  },
  {
   "cell_type": "markdown",
   "metadata": {
    "id": "49QaBYLgnvze"
   },
   "source": [
    "Agora que temos uma visão geral dos dados, é hora de limpá-los! Remova inconsistências, como dados ausentes e tipos incorretos, para garantir a qualidade da análise exploratória. Novamente, consulte a documentação do pandas para ajudar nesse processo."
   ]
  },
  {
   "cell_type": "markdown",
   "metadata": {
    "id": "gaEQLWhh0AfA"
   },
   "source": [
    "###Lembre-se que existem muitas funções ao seu favor! ✨\n",
    "\n",
    "**dropna()**: Remove as linhas ou colunas com valores ausentes(nulos) ou irrelevantes para sua análise.\n",
    "\n",
    "**fillna()**: Preenche os valores ausentes com algum valor específico, como a média, a mediana ou um valor constante, dependendo do contexto.\n",
    "\n",
    "Essas funções são essenciais para garantir que seu dataset esteja limpo e pronto para análise! E o melhor é que existem muitas outras opções além dessas. Dêem uma olhada na documentação e descubram quais outras funções podem se adequar melhor à análise de vocês."
   ]
  },
  {
   "cell_type": "markdown",
   "metadata": {},
   "source": [
    "# Parâmetros de .dropna()\n",
    "\n",
    "##  dropna(axis= , how=, subset=, inplace=)\n",
    "**axis** = se exclui pela linha(axis=0) ou pela coluna (axis=1)  \n",
    "**how** = se exclui apenas se todos os valores forem nulos ('all') ou se existir apenas 1 nulo ('any')  \n",
    "**subset** = exclui apenas os valores nulos da coluna  \n",
    "subset=['Nome da Coluna']  \n",
    "**inplace** = se True, então modifica o dataset original, se False, cria uma cópia do dataframe\n",
    "\n",
    "### Observações importantes\n",
    "\n",
    "Se axis = 0, então .dropna() **exclui as linhas** que tiverem algum NULL\n",
    "\n",
    "Se axis = 1, então .dropna() **exclui as colunas** que tiverem algum NULL\n",
    "\n",
    "Se axis = 1 e subset: .dropna() apaga a **coluna** se linha tal tiver algum NULL\n",
    "\n",
    "Se axis = 0 e subset='Coluna', então .dropna() apaga todas as **linhas** que tiverem NULL na 'Coluna'\n"
   ]
  },
  {
   "cell_type": "code",
   "execution_count": null,
   "metadata": {},
   "outputs": [],
   "source": [
    "# apague todas as linhas que tiverem a coluna 'Age at Marriage' NULL\n",
    "dataset.dropna(subset='Age at Marriage', inplace=True) "
   ]
  },
  {
   "cell_type": "code",
   "execution_count": null,
   "metadata": {},
   "outputs": [],
   "source": [
    "dataset['Age at Marriage'].dropna()"
   ]
  },
  {
   "cell_type": "markdown",
   "metadata": {},
   "source": [
    "# Parâmetros de .drop()\n",
    "\n",
    "### **.drop(axis, labels, index, columns, inplace, errors)**\n",
    "\n",
    "**axis**: determina se exclui linha ou coluna  \n",
    "**index**: intervalo de indices a serem excluidos  \n",
    "**labels**: indica o nome da linha ou coluna a ser excluida  \n",
    "**columns**: indica qual coluna vai ser excluida"
   ]
  },
  {
   "cell_type": "code",
   "execution_count": null,
   "metadata": {},
   "outputs": [],
   "source": [
    "dataset.drop(index=range(0, 5)) #exclui as linhas de indice 0 a 4"
   ]
  },
  {
   "cell_type": "code",
   "execution_count": null,
   "metadata": {},
   "outputs": [],
   "source": [
    "dataset.drop(columns='Age at Marriage') # exclui a coluna Age at Marriage"
   ]
  },
  {
   "cell_type": "code",
   "execution_count": null,
   "metadata": {},
   "outputs": [],
   "source": [
    "dataset.drop(axis=1, labels='Unique ID') # exlui Unique ID"
   ]
  },
  {
   "cell_type": "markdown",
   "metadata": {},
   "source": [
    "# Parâmetos de .fillna()\n",
    "\n",
    "### **.fillna(value, axis)**\n",
    "\n",
    "**axis**: preenche percorrendo as linhas ou coluna  \n",
    "**value**: valor que quermeos preecnher os nulos"
   ]
  },
  {
   "cell_type": "code",
   "execution_count": null,
   "metadata": {},
   "outputs": [],
   "source": [
    "dataset.fillna({'Age at Marriage': dataset['Age at Marriage'].mean()}, inplace=True) #este método é mais seguro!!"
   ]
  },
  {
   "cell_type": "code",
   "execution_count": null,
   "metadata": {},
   "outputs": [],
   "source": [
    "dataset.fillna(max(dataset['Age at marriage'])) # preenche qualquer valor NULL do dataset com o valor máximo em 'Age at Marriage'"
   ]
  },
  {
   "cell_type": "code",
   "execution_count": null,
   "metadata": {},
   "outputs": [],
   "source": [
    "dataset['Age at Marriage'].fillna(23, inplace=True) # preenche os nulos da coluna com 23"
   ]
  },
  {
   "cell_type": "code",
   "execution_count": null,
   "metadata": {},
   "outputs": [],
   "source": [
    "dataset.head()"
   ]
  },
  {
   "cell_type": "markdown",
   "metadata": {
    "id": "sw3sAo8DqBVZ"
   },
   "source": [
    "## 1.3 - Análise Exploratória dos Dados (EDA)\n",
    "\n",
    "---\n",
    "\n"
   ]
  },
  {
   "cell_type": "markdown",
   "metadata": {
    "id": "Z8IOc3xSqw5C"
   },
   "source": [
    "🔍 Após concluir a etapa de limpeza dos dados, agora é o momento de analisar mais a fundo o que está acontecendo no dataset.\n",
    "\n",
    "O próximo passo é identificar correlações e examinar a distribuição das variáveis presentes. Para isso, recomenda-se o uso da biblioteca [matplotlib](https://matplotlib.org/) para criar gráficos que representem essas relações."
   ]
  },
  {
   "cell_type": "markdown",
   "metadata": {},
   "source": [
    "## Como fazer um gráfico em barras com matplot:\n",
    "\n",
    "### **plt.bar(x= , height= )**\n",
    "\n",
    "Existem vários parâmetros, mas os principais são:  \n",
    "\n",
    "**x**: valor que estará no eixo x  \n",
    "**height**: valores do eixto y"
   ]
  },
  {
   "cell_type": "markdown",
   "metadata": {},
   "source": [
    "## **.index() e .values()**\n",
    "\n",
    "São funções que quando aplicadas em um Series, retornam uma lista:  \n",
    "\n",
    "**.index()**: indices  \n",
    "**.values()**: valores de cada indice "
   ]
  },
  {
   "cell_type": "code",
   "execution_count": null,
   "metadata": {},
   "outputs": [],
   "source": [
    "#criando um gráfico de barras para ver quantidade de casamentos por religião\n",
    "\n",
    "t = dataset['Caste/Religion'].value_counts()\n",
    "t.drop(index='Other', inplace=True) #removendo 'other' do Series\n",
    "\n",
    "# configurando os títulos\n",
    "plt.title('Casamentos por religião', fontsize=14)\n",
    "plt.xlabel('Religiões', fontsize=12)\n",
    "plt.ylabel('Casamentos', fontsize=12)\n",
    "\n",
    "plt.bar(x=t.index, height=t.values, width=0.6)\n",
    "plt.show\n",
    "plt.savefig('grafico_casamentos.png', dpi=600)"
   ]
  },
  {
   "cell_type": "code",
   "execution_count": null,
   "metadata": {},
   "outputs": [],
   "source": [
    "contagem = dataset['Marriage Duration (Years)'].value_counts(bins=8, sort=False)\n",
    "\n",
    "labels = [f\"[{int(interval.left)}, {int(interval.right)})\" for interval in contagem.index] # para truncar os valores float de value.counts()\n",
    "\n",
    "\n",
    "plt.bar(x=labels, height=contagem.values)\n",
    "\n",
    "plt.title('Quantidade de casamentos por intervalos de duração de tempo', fontsize=14)\n",
    "plt.xlabel('Intervalos de tempo', fontsize=12)\n",
    "plt.ylabel('Quantidade de casamentos', fontsize=12)\n",
    "\n",
    "plt.show()\n",
    "plt.savefig('casamento_intervalo.png', dpi=600)"
   ]
  },
  {
   "cell_type": "code",
   "execution_count": null,
   "metadata": {},
   "outputs": [],
   "source": [
    "dataset.head()"
   ]
  },
  {
   "cell_type": "code",
   "execution_count": null,
   "metadata": {},
   "outputs": [],
   "source": [
    "# quantidade de divorciados ou nao \n",
    "\n",
    "quant_divorce = dataset.groupby('Divorce Status')['Unique ID'].count()\n",
    "\n",
    "plt.bar(x=quant_divorce.index, height=quant_divorce.values, width=0.6)\n",
    "\n",
    "plt.title('Quantidade de divorciados', fontsize=14)\n",
    "plt.xlabel('Yes = Divorced No = No divorced', fontsize=12)\n",
    "plt.ylabel('Quantidade')\n",
    "\n",
    "plt.show()"
   ]
  },
  {
   "cell_type": "code",
   "execution_count": null,
   "metadata": {},
   "outputs": [],
   "source": [
    "m_type = dataset['Marriage Type'].value_counts()\n",
    "\n",
    "plt.bar(x=m_type.index, height=m_type.values, width=0.5)\n",
    "\n",
    "plt.title('Quantidade por tipo de casamento', fontsize=14)\n",
    "plt.xlabel('Tipos de casamento', fontsize=12)\n",
    "plt.ylabel('Quantidade', fontsize=12)\n",
    "\n",
    "plt.show()"
   ]
  },
  {
   "cell_type": "markdown",
   "metadata": {
    "id": "cOd2G00YrAnC"
   },
   "source": [
    "## 1.4 - Feature engeneering e dados categóricos\n",
    "\n",
    "---\n",
    "\n"
   ]
  },
  {
   "cell_type": "markdown",
   "metadata": {
    "id": "RiasNBS0u6MN"
   },
   "source": [
    "### 1.4.1 - Sempre que falamos de Data Science, lembramos dos diferentes tipos de dados. E, junto deles, surgem os temidos dados categóricos!\n",
    "\n",
    "Esses dados são bem diferentes das variáveis numéricas, então a gente precisa dar uma atenção extra pra trabalhar com eles de forma eficaz. Bora transformar alguns deles usando os métodos que já vimos, como o **OneHotEncoder**! 🔥\n",
    "\n",
    "Depois disso, vamos mergulhar no **Feature Engineering**!\n",
    "Essa técnica é super poderosa e serve para extrair informações mais relevantes dos dados que já temos. Ela consiste em selecionar, manipular e transformar colunas e linhas do dataset, dando um novo significado ou enriquecendo as informações. Um exemplo clássico é a criação de uma coluna de IMC (Índice de Massa Corporal) a partir das colunas de altura e peso.\n",
    "\n",
    "Agora é sua vez! Solte a criatividade e use sua intuição pra criar novos atributos a partir do que já está disponível.\n",
    "\n",
    "**Dica**: Pegue as colunas que você já tem e use como base pra criar outras com características diferentes."
   ]
  },
  {
   "cell_type": "markdown",
   "metadata": {},
   "source": [
    "## Por que OneHotEncoder é importante\n",
    "\n",
    "Os modelos de IA usam cálculos matemáticos para tentar predizer resultados.  \n",
    "  \n",
    "Assim, é importante que os dados sejam **apenas numéricos**, para que o modelo consiga trabalhar com eles"
   ]
  },
  {
   "cell_type": "code",
   "execution_count": null,
   "metadata": {
    "id": "NCqfK-np14i_"
   },
   "outputs": [],
   "source": [
    "from sklearn.preprocessing import OneHotEncoder\n",
    "\n",
    "# OneHotEncoder cria um objeto\n",
    "# handle_unknowm diz para ignorar o erro caso surja uma categoria desconhecida\n",
    "# sparse_output = False diz que deve retornar uma matriz normal \n",
    "# .set_output diz qual deve ser o formato de saída dessa matriz\n",
    "# transform diz que a saída deve ser o formato para o pandas\n",
    "\n",
    "ohe = OneHotEncoder(handle_unknown='ignore', sparse_output=False).set_output(transform='pandas')\n",
    "\n",
    "#cria um DataSet em que cada coluna é uma categoria\n",
    "# PARÂMETRO DE fit_transform( COLUNA A QUAL DEVE SER APLICADA )\n",
    "\n",
    "oheTransform = ohe.fit_transform(dataset[['Marriage Type']])\n",
    "\n",
    "# .concat() é um método que concatena dois dataset: PODE CONCATENAR POR LINHAS (axis=0) ou por COLUNAS (axis=1)\n",
    "# .drop() serve para excluir a coluna Marriage Type com dados categoricos\n",
    "\n",
    "df_final = pd.concat([dataset, oheTransform], axis=1).drop(columns=['Marriage Type'])\n",
    "df_final"
   ]
  },
  {
   "cell_type": "markdown",
   "metadata": {},
   "source": [
    "A ideia na célula seguinte é criar uma nova coluna para indicar se um casamento durou mais do que a idade em que a pessoa começou o casamento\n",
    "\n",
    "1 se o tempo de casamento for maior que a idade em que casou, 0 se não"
   ]
  },
  {
   "cell_type": "code",
   "execution_count": null,
   "metadata": {},
   "outputs": [],
   "source": [
    "dataset['More Time Marriage'] = dataset.apply(lambda x: 1 if x['Marriage Duration (Years)'] >= x['Age at Marriage'] else 0, axis=1)\n",
    "\n",
    "dataset"
   ]
  },
  {
   "cell_type": "markdown",
   "metadata": {
    "id": "qzD_f_7t0jTF"
   },
   "source": [
    "### 1.4.2 - Em poucos termos, computadores não conseguem entender texto de maneira alguma, mas números, ah, esses as máquinas entendem bem pra caramba! Então, que tal usar as técnicas que aprendemos pra deixar tudo necessário em números?\n",
    "\n",
    "**Dica**: Sempre que temos uma feature categórica que possui apenas 2 elementos, podemos transformar ela em uma flag binária! Agora o que isso significa eu deixo pra você pesquisar 😉"
   ]
  },
  {
   "cell_type": "markdown",
   "metadata": {},
   "source": [
    "### **.map()**: usada para transformar dados strings em uma coluna  \n",
    "  \n",
    "**Parâmetros**\n",
    "\n",
    ".map(**qualquer funcao**, **na_action**)  \n",
    "\n",
    "**qualquer função**: permite definir uma função que vá alterar os valores da coluna (não muito util para dados não-categoricos).  \n",
    "Para **dados categóricos**, usamos o dicionário em que cada chave é o valor a ser substituido, e o value no dicionário é o valor que vai substituir  \n",
    "\n",
    "**na_action**: determina o que fazer se encontrar um nulo"
   ]
  },
  {
   "cell_type": "code",
   "execution_count": null,
   "metadata": {
    "id": "acXioHCmu6uO"
   },
   "outputs": [],
   "source": [
    "# transforma a coluna Divorce Status em uma flag binária\n",
    "\n",
    "dataset['Divorce Status'] = dataset['Divorce Status'].map({'Yes': 1, 'No': 0})\n",
    "\n",
    "dataset"
   ]
  }
 ],
 "metadata": {
  "colab": {
   "collapsed_sections": [
    "rZ8JrMi0gXQO",
    "ILn438eauT6j",
    "xIAaZ2XWwvsj",
    "-ifLe_4UnqPO",
    "gaEQLWhh0AfA",
    "sw3sAo8DqBVZ",
    "cOd2G00YrAnC"
   ],
   "provenance": []
  },
  "kernelspec": {
   "display_name": "Python 3",
   "name": "python3"
  },
  "language_info": {
   "codemirror_mode": {
    "name": "ipython",
    "version": 3
   },
   "file_extension": ".py",
   "mimetype": "text/x-python",
   "name": "python",
   "nbconvert_exporter": "python",
   "pygments_lexer": "ipython3",
   "version": "3.13.0"
  }
 },
 "nbformat": 4,
 "nbformat_minor": 0
}
